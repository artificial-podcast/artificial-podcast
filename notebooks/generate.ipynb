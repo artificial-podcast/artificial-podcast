{
  "nbformat": 4,
  "nbformat_minor": 0,
  "metadata": {
    "colab": {
      "name": "generate.ipynb",
      "provenance": [],
      "collapsed_sections": []
    },
    "kernelspec": {
      "name": "python3",
      "display_name": "Python 3"
    },
    "language_info": {
      "name": "python"
    },
    "accelerator": "GPU"
  },
  "cells": [
    {
      "cell_type": "code",
      "execution_count": 1,
      "metadata": {
        "id": "5MbiYC0ZjYvF"
      },
      "outputs": [],
      "source": [
        "#!python --version\n",
        "#!pip list\n",
        "#!nvidia-smi\n",
        "#!rm -rf samples\n",
        "#!rm -rf sample_data\n",
        "#!rm -rf checkpoint\n",
        "#!rm -rf models"
      ]
    },
    {
      "cell_type": "code",
      "source": [
        "# Prepare the environment\n",
        "#\n",
        "# Upload the Google Cloud credentials\n",
        "#\n",
        "# Upload the following code\n",
        "# - trainer/gsync\n",
        "# - trainer/model\n",
        "\n",
        "# prepare the environment\n",
        "!rm -rf sample_data\n",
        "\n",
        "!pip install pyyaml\n",
        "!pip install gpt-2-simple"
      ],
      "metadata": {
        "id": "vMa-vBxfjjp-"
      },
      "execution_count": null,
      "outputs": []
    },
    {
      "cell_type": "code",
      "source": [
        "import os\n",
        "import sys\n",
        "import time\n",
        "import logging\n",
        "import datetime\n",
        "import argparse\n",
        "\n",
        "from model import generate"
      ],
      "metadata": {
        "id": "qpW2JvdRcAt6"
      },
      "execution_count": 1,
      "outputs": []
    },
    {
      "cell_type": "code",
      "source": [
        "parser = argparse.ArgumentParser()\n",
        "\n",
        "parser.add_argument(\n",
        "    '--job-dir',    # a working dir for training on the AI platform\n",
        "    default='job'\n",
        ")\n",
        "parser.add_argument(\n",
        "    '--id',         # a unique id for the job\n",
        "    default='id'\n",
        ")\n",
        "parser.add_argument(\n",
        "    '--cache-dir',\n",
        "    default='cache'\n",
        ")\n",
        "parser.add_argument(\n",
        "    '--prompt',\n",
        "    required=True\n",
        ")"
      ],
      "metadata": {
        "id": "-V7itUp8dwJG"
      },
      "execution_count": null,
      "outputs": []
    },
    {
      "cell_type": "code",
      "source": [
        "job_id = datetime.datetime.fromtimestamp(time.time()).strftime('%H%M%S')\n",
        "\n",
        "args = parser.parse_args(['--prompt', 'granger_test_large.yaml',\n",
        "                          '--id', f\"{job_id}\"])\n",
        "\n",
        "print('')\n",
        "print(f\" --> Generating text from model {args.prompt}\")\n",
        "print(f\" --> Configuration: {args}\")\n",
        "\n",
        "generate(args)"
      ],
      "metadata": {
        "id": "-SbHUkcol41M"
      },
      "execution_count": null,
      "outputs": []
    }
  ]
}