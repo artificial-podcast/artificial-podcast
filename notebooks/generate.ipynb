{
  "cells": [
    {
      "cell_type": "code",
      "execution_count": null,
      "metadata": {
        "id": "5MbiYC0ZjYvF"
      },
      "outputs": [],
      "source": [
        "#!python --version\n",
        "#!pip list\n",
        "#!nvidia-smi\n",
        "#!rm -rf samples\n",
        "#!rm -rf sample_data\n",
        "#!rm -rf checkpoint\n",
        "#!rm -rf models"
      ]
    },
    {
      "cell_type": "code",
      "execution_count": null,
      "metadata": {
        "id": "vMa-vBxfjjp-"
      },
      "outputs": [],
      "source": [
        "# Prepare the environment\n",
        "#\n",
        "# Upload the Google Cloud credentials\n",
        "#\n",
        "# Upload the following code\n",
        "# - trainer/gsync\n",
        "# - trainer/model\n",
        "\n",
        "# prepare the environment\n",
        "!rm -rf sample_data\n",
        "\n",
        "!pip install pyyaml\n",
        "!pip install gpt-2-simple"
      ]
    },
    {
      "cell_type": "code",
      "execution_count": null,
      "metadata": {
        "id": "qpW2JvdRcAt6"
      },
      "outputs": [],
      "source": [
        "import os\n",
        "import sys\n",
        "import time\n",
        "import logging\n",
        "import datetime\n",
        "import argparse\n",
        "\n",
        "from model import generate"
      ]
    },
    {
      "cell_type": "code",
      "execution_count": null,
      "metadata": {
        "id": "-V7itUp8dwJG"
      },
      "outputs": [],
      "source": [
        "parser = argparse.ArgumentParser()\n",
        "\n",
        "parser.add_argument(\n",
        "    '--job-dir',    # a working dir for training on the AI platform\n",
        "    default='job'\n",
        ")\n",
        "parser.add_argument(\n",
        "    '--id',         # a unique id for the job\n",
        "    default='id'\n",
        ")\n",
        "parser.add_argument(\n",
        "    '--cache-dir',\n",
        "    default='cache'\n",
        ")\n",
        "parser.add_argument(\n",
        "    '--prompt',\n",
        "    required=True\n",
        ")"
      ]
    },
    {
      "cell_type": "code",
      "execution_count": null,
      "metadata": {
        "id": "-SbHUkcol41M"
      },
      "outputs": [],
      "source": [
        "prompts = 'granger_test.yaml'"
      ]
    },
    {
      "cell_type": "code",
      "execution_count": null,
      "metadata": {
        "id": "e_N50ajUKxhg"
      },
      "outputs": [],
      "source": [
        "job_id = datetime.datetime.fromtimestamp(time.time()).strftime('%H%M%S')\n",
        "\n",
        "args = parser.parse_args(['--prompt', prompts, '--id', f\"{job_id}\"])\n",
        "\n",
        "print('')\n",
        "print(f\" --> Generating text from model {args.prompt}\")\n",
        "print(f\" --> Configuration: {args}\")\n",
        "\n",
        "generate(args)"
      ]
    }
  ],
  "metadata": {
    "accelerator": "GPU",
    "colab": {
      "collapsed_sections": [],
      "name": "generate.ipynb",
      "provenance": []
    },
    "kernelspec": {
      "display_name": "Python 3",
      "name": "python3"
    },
    "language_info": {
      "name": "python"
    }
  },
  "nbformat": 4,
  "nbformat_minor": 0
}
